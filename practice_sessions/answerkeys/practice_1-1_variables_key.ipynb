{
 "cells": [
  {
   "cell_type": "markdown",
   "metadata": {
    "slideshow": {
     "slide_type": "slide"
    }
   },
   "source": [
    "# Practice 1-1: Variables + Operators\n"
   ]
  },
  {
   "cell_type": "markdown",
   "metadata": {
    "slideshow": {
     "slide_type": "subslide"
    }
   },
   "source": [
    "## Variables + Operators"
   ]
  },
  {
   "cell_type": "markdown",
   "metadata": {},
   "source": [
    "## 📚 Practice 1.\n",
    "The laws of conservation state that in a closed system, mass, energy, and momentum can be neither created nor destroyed. Thus, the energy coming into the Earth's surface (via solar radiation) must be equal to the energy going out from the Earth's surface. The energy coming in via solar radiation can be written:\n",
    "\n",
    "$$R_{\\text{in}} = G_s \\pi {r_{e}}^2 (1 - \\alpha)$$\n",
    "where $r_e$ is the radius of the Earth; $\\alpha$ is the Earth's albedo, a fraction correponding to the amount of incident radiation that is reflected; and $G_s$ is the Solar Constant, or the flux density of the solar radiation at the Earth's surface. The Solar Constant can be calculated according to the equation\n",
    "\n",
    "$$G_s = \\sigma {T_{sun}}^4 \\left( \\frac{4 \\pi {r_{sun}}^2}{4 \\pi d^2} \\right)$$\n",
    "\n",
    "where $\\sigma$ is the Stefan-Boltzmann constant, $T_{sun}$ is the temperature of the sun, $r_{sun}$ is the radius of the sun, and $d$ is the average distance between the sun and the Earth. The outgoing radiation from the Earth is given by the Stefan-Boltzmann law:\n",
    "\n",
    "$$R_{\\text{out}} = \\varepsilon \\sigma A_{e} {T_e}^4$$\n",
    "\n",
    "where $\\varepsilon$ is the emissivity of the Earth, $A_e$ is the surface area of the Earth approximated as a sphere, and $T_e$ is the temperature of the Earth's surface.\n",
    "\n",
    "Given: \n",
    "\n",
    "- $\\sigma$ = 5.67 $\\times$ 10<sup>-8</sup> W m<sup>-2</sup> K<sup>-4</sup>\n",
    "- the radius of the sun is 6.957 $\\times$ 10<sup>5</sup> km, \n",
    "- the temperature of the sun is 5778 K, \n",
    "- the average distance between the sun and the Earth is 1.5 $\\times$ 10<sup>8</sup> km, \n",
    "- the average albedo of the planet is 0.3\n",
    "- and the emissivity of the Earth is 1.0,</p>\n",
    "\n",
    "<ol class=\"alpha\">\n",
    "    <li> Calculate the Solar Constant in W m<sup>-2</sup>. Print your answer rounded to 3 decimal places. </li>\n",
    "    <li> Calculate the temperature of the Earth's surface in °C. Print your answer as both a float and an integer. </li> \n",
    "    <li>The actual global surface temperature of the Earth is about 14.6°C. What accounts for the difference between the answer you calculated above in the actual surface temperature? </li>\n",
    "</ol>\n",
    "<p style=\"font-weight:bold; margin-top:0pt\">Show your work by including comments in your code and assigning variables.</p>\n",
    "</div>"
   ]
  },
  {
   "cell_type": "code",
   "execution_count": 7,
   "metadata": {},
   "outputs": [
    {
     "name": "stdout",
     "output_type": "stream",
     "text": [
      "Practice 1a\n",
      "Solar constant = 1359.423 W m-2\n",
      "Practice 1b\n",
      "Temperature of the Earth's surface = -18°C\n",
      "Temperature of the Earth's surface = -18.6414235372213°C\n"
     ]
    }
   ],
   "source": [
    "# Constants\n",
    "sigma = 5.67e-8  # W m-2 K-4\n",
    "r_sun = 6.957e8  # m\n",
    "T_sun = 5778     # K\n",
    "d = 1.5e11       # m\n",
    "alpha = 0.3      # unitless\n",
    "\n",
    "# 1a. Solar constant\n",
    "print('Practice 1a')\n",
    "g_s = sigma * (T_sun **4) * ((r_sun**2) / (d**2))\n",
    "print('Solar constant = ' + str(round(g_s,3)) + ' W m-2')\n",
    "\n",
    "# 1b. Temperature of the Earth\n",
    "print('Practice 1b')\n",
    "T_e = (((g_s*(1-alpha)) / (4*1.0*sigma))**(1/4)) - 273.15\n",
    "print(\"Temperature of the Earth's surface = \" + str(int(T_e)) + '°C')\n",
    "print(\"Temperature of the Earth's surface = \" + str(T_e) + '°C')"
   ]
  },
  {
   "cell_type": "markdown",
   "metadata": {},
   "source": [
    "1c. Greenhouse gases; i.e. the emissivity of the Earth's atmosphere is not 1.0."
   ]
  },
  {
   "cell_type": "markdown",
   "metadata": {},
   "source": [
    "\n",
    "<div class=\"practice\">\n",
    "   📚 Practice 2.\n",
    "    In the cell below, answer the question by defining a new string variable. Use the <code>print()</code>  command to output your answer.\n",
    "</div>"
   ]
  },
  {
   "cell_type": "code",
   "execution_count": 8,
   "metadata": {},
   "outputs": [
    {
     "name": "stdout",
     "output_type": "stream",
     "text": [
      "What is Newton's 1st law?\n",
      "An object in motion will stay in motion until it is acted upon by an external force.\n"
     ]
    }
   ],
   "source": [
    "# Question\n",
    "q1 = 'What is Newton\\'s 1st law?'\n",
    "\n",
    "# Answer the question by defining a new string variable.\n",
    "a1 = 'An object in motion will stay in motion until it is acted upon by an external force.'\n",
    "# Print your answer.\n",
    "print(q1)\n",
    "print(a1)"
   ]
  },
  {
   "cell_type": "markdown",
   "metadata": {},
   "source": [
    "## 📚 Practice 3.\n",
    "Assign your first and last names to variables and use the <code>+</code> operator to combine them into a single variable. Practice capitalizing the first letter and then the entire string. Print your answers."
   ]
  },
  {
   "cell_type": "code",
   "execution_count": 9,
   "metadata": {},
   "outputs": [
    {
     "name": "stdout",
     "output_type": "stream",
     "text": [
      "Kelly Caylor\n",
      "Kelly caylor\n",
      "KELLY CAYLOR\n"
     ]
    }
   ],
   "source": [
    "# Define variables\n",
    "first = 'Kelly'\n",
    "last = 'Caylor'\n",
    "# Combine in a single string.\n",
    "full_name = first + ' ' + last\n",
    "# Capitalize the first letter\n",
    "cap_name = full_name.capitalize()\n",
    "# Capitalize the entire string.\n",
    "upper_name = full_name.upper()\n",
    "# Print outputs.\n",
    "print(full_name)\n",
    "print(cap_name)\n",
    "print(upper_name)"
   ]
  },
  {
   "cell_type": "markdown",
   "metadata": {},
   "source": [
    "## 📚 Practice 4.\n",
    "Rewrite your answers to practice questions 1a and 1b using formatted print statements. Each answer should include: 1. What you are solving for; 2. Your solution as an integer, float, and a float rounded to 3 decimal places; and 3. Units. For example:\n",
    "\n",
    "<p style=\"font-weight: normal; text-align: center; margin-top: 12pt\"> <code>The radius of the earth is 6,378 km.</code> </p>\n",
    "\n",
    "\n",
    "</div>"
   ]
  },
  {
   "cell_type": "code",
   "execution_count": 10,
   "metadata": {},
   "outputs": [
    {
     "name": "stdout",
     "output_type": "stream",
     "text": [
      "Solar constant = 1359 W m-2\n",
      "Solar constant = 1359.423263 W m-2\n",
      "Solar constant = 1359.423 W m-2\n",
      "Temperature of the Earth's surface =  -18°C\n",
      "Temperature of the Earth's surface =  -18.641424°C\n",
      "Temperature of the Earth's surface =  -18.641°C\n"
     ]
    }
   ],
   "source": [
    "# Formatted print statement for 1a.\n",
    "print('Solar constant = %d W m-2' % (int(g_s)))\n",
    "print('Solar constant = %f W m-2' % (g_s))\n",
    "print('Solar constant = %.3f W m-2' % (g_s))\n",
    "\n",
    "# Formatted print statement for 1b.\n",
    "print(\"Temperature of the Earth's surface =  %d°C\" % (int(T_e)))\n",
    "print(\"Temperature of the Earth's surface =  %f°C\" % (T_e))\n",
    "print(\"Temperature of the Earth's surface =  %.3f°C\" % (T_e))"
   ]
  },
  {
   "cell_type": "markdown",
   "metadata": {},
   "source": [
    "\n",
    "## 📚 Practice 5.\n",
    "Following the example above, create a variable corresponding to the day on which you were born based on user input. Convert both variables to floats and assign the float versions to new variables. Lastly, use one of the boolean operators to evaluate which variable is greater – the day or the month – and print the result.\n"
   ]
  },
  {
   "cell_type": "code",
   "execution_count": 11,
   "metadata": {},
   "outputs": [
    {
     "name": "stdout",
     "output_type": "stream",
     "text": [
      "False\n"
     ]
    }
   ],
   "source": [
    "# User input variable for month of birth\n",
    "month_in = input('Month of birth (1-12): ')\n",
    "# User input variable for day of birth\n",
    "day_in = input('Day of birth (1-31): ')\n",
    "# Convert birth day and month to floats.\n",
    "month = float(month_in)\n",
    "day = float(day_in)\n",
    "# Evaluate boolean operation + print result.\n",
    "print(month > day)"
   ]
  },
  {
   "cell_type": "markdown",
   "metadata": {},
   "source": [
    "<hr style=\"border-top: 1px solid gray; margin-top: 24px; margin-bottom: 1px\"></hr>"
   ]
  },
  {
   "cell_type": "code",
   "execution_count": 12,
   "metadata": {
    "cell.metadata.hide_input": "True"
   },
   "outputs": [
    {
     "ename": "FileNotFoundError",
     "evalue": "[Errno 2] No such file or directory: './styles/exercises.css'",
     "output_type": "error",
     "traceback": [
      "\u001b[0;31m---------------------------------------------------------------------------\u001b[0m",
      "\u001b[0;31mFileNotFoundError\u001b[0m                         Traceback (most recent call last)",
      "Cell \u001b[0;32mIn[12], line 6\u001b[0m\n\u001b[1;32m      4\u001b[0m     styles \u001b[38;5;241m=\u001b[39m \u001b[38;5;28mopen\u001b[39m(\u001b[38;5;124m\"\u001b[39m\u001b[38;5;124m./styles/exercises.css\u001b[39m\u001b[38;5;124m\"\u001b[39m, \u001b[38;5;124m\"\u001b[39m\u001b[38;5;124mr\u001b[39m\u001b[38;5;124m\"\u001b[39m)\u001b[38;5;241m.\u001b[39mread()\n\u001b[1;32m      5\u001b[0m     \u001b[38;5;28;01mreturn\u001b[39;00m HTML(styles)\n\u001b[0;32m----> 6\u001b[0m \u001b[43mcss_styling\u001b[49m\u001b[43m(\u001b[49m\u001b[43m)\u001b[49m\n",
      "Cell \u001b[0;32mIn[12], line 4\u001b[0m, in \u001b[0;36mcss_styling\u001b[0;34m()\u001b[0m\n\u001b[1;32m      3\u001b[0m \u001b[38;5;28;01mdef\u001b[39;00m \u001b[38;5;21mcss_styling\u001b[39m():\n\u001b[0;32m----> 4\u001b[0m     styles \u001b[38;5;241m=\u001b[39m \u001b[38;5;28;43mopen\u001b[39;49m\u001b[43m(\u001b[49m\u001b[38;5;124;43m\"\u001b[39;49m\u001b[38;5;124;43m./styles/exercises.css\u001b[39;49m\u001b[38;5;124;43m\"\u001b[39;49m\u001b[43m,\u001b[49m\u001b[43m \u001b[49m\u001b[38;5;124;43m\"\u001b[39;49m\u001b[38;5;124;43mr\u001b[39;49m\u001b[38;5;124;43m\"\u001b[39;49m\u001b[43m)\u001b[49m\u001b[38;5;241m.\u001b[39mread()\n\u001b[1;32m      5\u001b[0m     \u001b[38;5;28;01mreturn\u001b[39;00m HTML(styles)\n",
      "File \u001b[0;32m~/mambaforge/envs/eds217_2023/lib/python3.10/site-packages/IPython/core/interactiveshell.py:284\u001b[0m, in \u001b[0;36m_modified_open\u001b[0;34m(file, *args, **kwargs)\u001b[0m\n\u001b[1;32m    277\u001b[0m \u001b[38;5;28;01mif\u001b[39;00m file \u001b[38;5;129;01min\u001b[39;00m {\u001b[38;5;241m0\u001b[39m, \u001b[38;5;241m1\u001b[39m, \u001b[38;5;241m2\u001b[39m}:\n\u001b[1;32m    278\u001b[0m     \u001b[38;5;28;01mraise\u001b[39;00m \u001b[38;5;167;01mValueError\u001b[39;00m(\n\u001b[1;32m    279\u001b[0m         \u001b[38;5;124mf\u001b[39m\u001b[38;5;124m\"\u001b[39m\u001b[38;5;124mIPython won\u001b[39m\u001b[38;5;124m'\u001b[39m\u001b[38;5;124mt let you open fd=\u001b[39m\u001b[38;5;132;01m{\u001b[39;00mfile\u001b[38;5;132;01m}\u001b[39;00m\u001b[38;5;124m by default \u001b[39m\u001b[38;5;124m\"\u001b[39m\n\u001b[1;32m    280\u001b[0m         \u001b[38;5;124m\"\u001b[39m\u001b[38;5;124mas it is likely to crash IPython. If you know what you are doing, \u001b[39m\u001b[38;5;124m\"\u001b[39m\n\u001b[1;32m    281\u001b[0m         \u001b[38;5;124m\"\u001b[39m\u001b[38;5;124myou can use builtins\u001b[39m\u001b[38;5;124m'\u001b[39m\u001b[38;5;124m open.\u001b[39m\u001b[38;5;124m\"\u001b[39m\n\u001b[1;32m    282\u001b[0m     )\n\u001b[0;32m--> 284\u001b[0m \u001b[38;5;28;01mreturn\u001b[39;00m \u001b[43mio_open\u001b[49m\u001b[43m(\u001b[49m\u001b[43mfile\u001b[49m\u001b[43m,\u001b[49m\u001b[43m \u001b[49m\u001b[38;5;241;43m*\u001b[39;49m\u001b[43margs\u001b[49m\u001b[43m,\u001b[49m\u001b[43m \u001b[49m\u001b[38;5;241;43m*\u001b[39;49m\u001b[38;5;241;43m*\u001b[39;49m\u001b[43mkwargs\u001b[49m\u001b[43m)\u001b[49m\n",
      "\u001b[0;31mFileNotFoundError\u001b[0m: [Errno 2] No such file or directory: './styles/exercises.css'"
     ]
    }
   ],
   "source": [
    "# IGNORE THIS CELL\n",
    "from IPython.core.display import HTML\n",
    "def css_styling():\n",
    "    styles = open(\"./styles/exercises.css\", \"r\").read()\n",
    "    return HTML(styles)\n",
    "css_styling()"
   ]
  }
 ],
 "metadata": {
  "kernelspec": {
   "display_name": "Python 3",
   "language": "python",
   "name": "python3"
  },
  "language_info": {
   "codemirror_mode": {
    "name": "ipython",
    "version": 3
   },
   "file_extension": ".py",
   "mimetype": "text/x-python",
   "name": "python",
   "nbconvert_exporter": "python",
   "pygments_lexer": "ipython3",
   "version": "3.10.12"
  }
 },
 "nbformat": 4,
 "nbformat_minor": 2
}
